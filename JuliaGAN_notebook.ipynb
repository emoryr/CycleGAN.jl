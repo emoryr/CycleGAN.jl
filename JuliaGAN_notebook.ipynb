{
  "nbformat": 4,
  "nbformat_minor": 0,
  "metadata": {
    "colab": {
      "name": "JuliaGAN notebook.ipynb",
      "provenance": [],
      "collapsed_sections": [
        "aE2nxlHCAqsP",
        "myJSQZkLAwZa",
        "gF9IvfxjA6oa"
      ]
    },
    "kernelspec": {
      "display_name": "Julia",
      "language": "julia",
      "name": "julia"
    },
    "language_info": {
      "file_extension": ".jl",
      "mimetype": "application/julia",
      "name": "julia"
    },
    "accelerator": "GPU"
  },
  "cells": [
    {
      "cell_type": "markdown",
      "metadata": {
        "id": "tQ1r1bbb0yBv"
      },
      "source": [
        "# <img src=\"https://github.com/JuliaLang/julia-logo-graphics/raw/master/images/julia-logo-color.png\" height=\"100\" /> _Colab Notebook Template_\n",
        "\n",
        "## Instructions\n",
        "1. Work on a copy of this notebook: _File_ > _Save a copy in Drive_ (you will need a Google account). Alternatively, you can download the notebook using _File_ > _Download .ipynb_, then upload it to [Colab](https://colab.research.google.com/).\n",
        "2. If you need a GPU: _Runtime_ > _Change runtime type_ > _Harware accelerator_ = _GPU_.\n",
        "3. Execute the following cell (click on it and press Ctrl+Enter) to install Julia, IJulia and other packages (if needed, update `JULIA_VERSION` and the other parameters). This takes a couple of minutes.\n",
        "4. Reload this page (press Ctrl+R, or ⌘+R, or the F5 key) and continue to the next section.\n",
        "\n",
        "_Notes_:\n",
        "* If your Colab Runtime gets reset (e.g., due to inactivity), repeat steps 2, 3 and 4.\n",
        "* After installation, if you want to change the Julia version or activate/deactivate the GPU, you will need to reset the Runtime: _Runtime_ > _Factory reset runtime_ and repeat steps 3 and 4."
      ]
    },
    {
      "cell_type": "code",
      "metadata": {
        "id": "GIeFXS0F0zww",
        "colab": {
          "base_uri": "https://localhost:8080/"
        },
        "outputId": "8bad3bbc-1482-4ffc-f3ae-fbf73fe73035"
      },
      "source": [
        "%%shell\n",
        "set -e\n",
        "\n",
        "#---------------------------------------------------#\n",
        "JULIA_VERSION=\"1.7.1\" # any version ≥ 0.7.0\n",
        "JULIA_PACKAGES=\"IJulia BenchmarkTools Plots\"\n",
        "JULIA_PACKAGES_IF_GPU=\"CUDA\" # or CuArrays for older Julia versions\n",
        "JULIA_NUM_THREADS=2\n",
        "#---------------------------------------------------#\n",
        "\n",
        "if [ -n \"$COLAB_GPU\" ] && [ -z `which julia` ]; then\n",
        "  # Install Julia\n",
        "  JULIA_VER=`cut -d '.' -f -2 <<< \"$JULIA_VERSION\"`\n",
        "  echo \"Installing Julia $JULIA_VERSION on the current Colab Runtime...\"\n",
        "  BASE_URL=\"https://julialang-s3.julialang.org/bin/linux/x64\"\n",
        "  URL=\"$BASE_URL/$JULIA_VER/julia-$JULIA_VERSION-linux-x86_64.tar.gz\"\n",
        "  wget -nv $URL -O /tmp/julia.tar.gz # -nv means \"not verbose\"\n",
        "  tar -x -f /tmp/julia.tar.gz -C /usr/local --strip-components 1\n",
        "  rm /tmp/julia.tar.gz\n",
        "\n",
        "  # Install Packages\n",
        "  if [ \"$COLAB_GPU\" = \"1\" ]; then\n",
        "      JULIA_PACKAGES=\"$JULIA_PACKAGES $JULIA_PACKAGES_IF_GPU\"\n",
        "  fi\n",
        "  for PKG in `echo $JULIA_PACKAGES`; do\n",
        "    echo \"Installing Julia package $PKG...\"\n",
        "    julia -e 'using Pkg; pkg\"add '$PKG'; precompile;\"' &> /dev/null\n",
        "  done\n",
        "\n",
        "  # Install kernel and rename it to \"julia\"\n",
        "  echo \"Installing IJulia kernel...\"\n",
        "  julia -e 'using IJulia; IJulia.installkernel(\"julia\", env=Dict(\n",
        "      \"JULIA_NUM_THREADS\"=>\"'\"$JULIA_NUM_THREADS\"'\"))'\n",
        "  KERNEL_DIR=`julia -e \"using IJulia; print(IJulia.kerneldir())\"`\n",
        "  KERNEL_NAME=`ls -d \"$KERNEL_DIR\"/julia*`\n",
        "  mv -f $KERNEL_NAME \"$KERNEL_DIR\"/julia  \n",
        "\n",
        "  echo ''\n",
        "  echo \"Successfully installed `julia -v`!\"\n",
        "  echo \"Please reload this page (press Ctrl+R, ⌘+R, or the F5 key) then\"\n",
        "  echo \"jump to the 'Checking the Installation' section.\"\n",
        "fi"
      ],
      "execution_count": null,
      "outputs": [
        {
          "output_type": "stream",
          "name": "stdout",
          "text": [
            "Installing Julia 1.7.1 on the current Colab Runtime...\n",
            "2022-01-25 21:29:13 URL:https://storage.googleapis.com/julialang2/bin/linux/x64/1.7/julia-1.7.1-linux-x86_64.tar.gz [123374573/123374573] -> \"/tmp/julia.tar.gz\" [1]\n",
            "Installing Julia package IJulia...\n",
            "Installing Julia package BenchmarkTools...\n",
            "Installing Julia package Plots...\n",
            "Installing Julia package CUDA...\n"
          ]
        }
      ]
    },
    {
      "cell_type": "markdown",
      "metadata": {
        "id": "-OS3Ac017T1i"
      },
      "source": [
        "# Checking the Installation\n",
        "The `versioninfo()` function should print your Julia version and some other info about the system:"
      ]
    },
    {
      "cell_type": "code",
      "metadata": {
        "id": "EEzvvzCl1i0F",
        "colab": {
          "base_uri": "https://localhost:8080/"
        },
        "outputId": "16a90d9c-b034-4ed1-9542-9c2e51527db5"
      },
      "source": [
        "versioninfo()"
      ],
      "execution_count": 1,
      "outputs": [
        {
          "output_type": "stream",
          "name": "stdout",
          "text": [
            "Julia Version 1.7.1\n",
            "Commit ac5cc99908 (2021-12-22 19:35 UTC)\n",
            "Platform Info:\n",
            "  OS: Linux (x86_64-pc-linux-gnu)\n",
            "  CPU: Intel(R) Xeon(R) CPU @ 2.20GHz\n",
            "  WORD_SIZE: 64\n",
            "  LIBM: libopenlibm\n",
            "  LLVM: libLLVM-12.0.1 (ORCJIT, broadwell)\n",
            "Environment:\n",
            "  JULIA_NUM_THREADS = 2\n"
          ]
        }
      ]
    },
    {
      "cell_type": "code",
      "source": [
        "run(`git clone https://github.com/emoryr/CycleGan.js.git`)"
      ],
      "metadata": {
        "id": "_FDME8ZmNP70",
        "colab": {
          "base_uri": "https://localhost:8080/"
        },
        "outputId": "e965290b-d71d-493e-a113-0dc3c0945075"
      },
      "execution_count": null,
      "outputs": [
        {
          "output_type": "stream",
          "name": "stderr",
          "text": [
            "Cloning into 'CycleGan.js'...\n"
          ]
        },
        {
          "output_type": "execute_result",
          "data": {
            "text/plain": [
              "Process(`\u001b[4mgit\u001b[24m \u001b[4mclone\u001b[24m \u001b[4mhttps://github.com/emoryr/CycleGan.js.git\u001b[24m`, ProcessExited(0))"
            ]
          },
          "metadata": {},
          "execution_count": 4
        }
      ]
    },
    {
      "cell_type": "code",
      "source": [
        "cd(\"CycleGan.js/\")"
      ],
      "metadata": {
        "id": "IGrelPrIrGMc"
      },
      "execution_count": null,
      "outputs": []
    },
    {
      "cell_type": "code",
      "source": [
        "download(\"http://efrosgans.eecs.berkeley.edu/cyclegan/datasets/horse2zebra.zip\", \"horse2zebra.zip\")\n",
        "run(`unzip -q horse2zebra.zip`)\n",
        "run(`rm horse2zebra.zip`)"
      ],
      "metadata": {
        "colab": {
          "base_uri": "https://localhost:8080/"
        },
        "id": "2KxmTjCeKSpe",
        "outputId": "e286c566-bcbd-4e01-8fb0-6507cdd6ee1b"
      },
      "execution_count": 2,
      "outputs": [
        {
          "output_type": "execute_result",
          "data": {
            "text/plain": [
              "Process(`\u001b[4munzip\u001b[24m \u001b[4m-q\u001b[24m \u001b[4mhorse2zebra.zip\u001b[24m`, ProcessExited(0))"
            ]
          },
          "metadata": {},
          "execution_count": 2
        }
      ]
    },
    {
      "cell_type": "code",
      "source": [
        "import Pkg; Pkg.add([\"Flux\", \"Images\", \"Parameters\", \"Statistics\", \"Zygote\", \"Functors\", \"CUDA\"])"
      ],
      "metadata": {
        "id": "F9XY83wqSVG7",
        "colab": {
          "base_uri": "https://localhost:8080/"
        },
        "outputId": "0cc7874b-daf0-4fb3-e489-303204dd4302"
      },
      "execution_count": 3,
      "outputs": [
        {
          "output_type": "stream",
          "name": "stderr",
          "text": [
            "\u001b[32m\u001b[1m    Updating\u001b[22m\u001b[39m registry at `~/.julia/registries/General.toml`\n",
            "\u001b[32m\u001b[1m   Resolving\u001b[22m\u001b[39m package versions...\n",
            "\u001b[32m\u001b[1m   Installed\u001b[22m\u001b[39m Calculus ────────────────── v0.5.1\n",
            "\u001b[32m\u001b[1m   Installed\u001b[22m\u001b[39m ImageIO ─────────────────── v0.6.0\n",
            "\u001b[32m\u001b[1m   Installed\u001b[22m\u001b[39m TiledIteration ──────────── v0.3.1\n",
            "\u001b[32m\u001b[1m   Installed\u001b[22m\u001b[39m OffsetArrays ────────────── v1.10.8\n",
            "\u001b[32m\u001b[1m   Installed\u001b[22m\u001b[39m TiffImages ──────────────── v0.5.3\n",
            "\u001b[32m\u001b[1m   Installed\u001b[22m\u001b[39m PNGFiles ────────────────── v0.3.12\n",
            "\u001b[32m\u001b[1m   Installed\u001b[22m\u001b[39m ImageSegmentation ───────── v1.7.0\n",
            "\u001b[32m\u001b[1m   Installed\u001b[22m\u001b[39m AxisArrays ──────────────── v0.4.4\n",
            "\u001b[32m\u001b[1m   Installed\u001b[22m\u001b[39m FFTW ────────────────────── v1.4.5\n",
            "\u001b[32m\u001b[1m   Installed\u001b[22m\u001b[39m ZipFile ─────────────────── v0.9.4\n",
            "\u001b[32m\u001b[1m   Installed\u001b[22m\u001b[39m NNlibCUDA ───────────────── v0.1.11\n",
            "\u001b[32m\u001b[1m   Installed\u001b[22m\u001b[39m ProgressMeter ───────────── v1.7.1\n",
            "\u001b[32m\u001b[1m   Installed\u001b[22m\u001b[39m ImageMagick ─────────────── v1.2.2\n",
            "\u001b[32m\u001b[1m   Installed\u001b[22m\u001b[39m Sixel ───────────────────── v0.1.2\n",
            "\u001b[32m\u001b[1m   Installed\u001b[22m\u001b[39m NearestNeighbors ────────── v0.4.9\n",
            "\u001b[32m\u001b[1m   Installed\u001b[22m\u001b[39m NNlib ───────────────────── v0.7.34\n",
            "\u001b[32m\u001b[1m   Installed\u001b[22m\u001b[39m RegionTrees ─────────────── v0.3.2\n",
            "\u001b[32m\u001b[1m   Installed\u001b[22m\u001b[39m IntelOpenMP_jll ─────────── v2018.0.3+2\n",
            "\u001b[32m\u001b[1m   Installed\u001b[22m\u001b[39m OpenEXR ─────────────────── v0.3.2\n",
            "\u001b[32m\u001b[1m   Installed\u001b[22m\u001b[39m Media ───────────────────── v0.5.0\n",
            "\u001b[32m\u001b[1m   Installed\u001b[22m\u001b[39m Images ──────────────────── v0.25.1\n",
            "\u001b[32m\u001b[1m   Installed\u001b[22m\u001b[39m Netpbm ──────────────────── v1.0.2\n",
            "\u001b[32m\u001b[1m   Installed\u001b[22m\u001b[39m MetaGraphs ──────────────── v0.7.1\n",
            "\u001b[32m\u001b[1m   Installed\u001b[22m\u001b[39m FileIO ──────────────────── v1.12.0\n",
            "\u001b[32m\u001b[1m   Installed\u001b[22m\u001b[39m ZygoteRules ─────────────── v0.2.2\n",
            "\u001b[32m\u001b[1m   Installed\u001b[22m\u001b[39m EllipsisNotation ────────── v1.3.0\n",
            "\u001b[32m\u001b[1m   Installed\u001b[22m\u001b[39m RealDot ─────────────────── v0.1.0\n",
            "\u001b[32m\u001b[1m   Installed\u001b[22m\u001b[39m Distances ───────────────── v0.10.7\n",
            "\u001b[32m\u001b[1m   Installed\u001b[22m\u001b[39m Static ──────────────────── v0.4.1\n",
            "\u001b[32m\u001b[1m   Installed\u001b[22m\u001b[39m JLD2 ────────────────────── v0.4.17\n",
            "\u001b[32m\u001b[1m   Installed\u001b[22m\u001b[39m IRTools ─────────────────── v0.4.4\n",
            "\u001b[32m\u001b[1m   Installed\u001b[22m\u001b[39m Functors ────────────────── v0.2.7\n",
            "\u001b[32m\u001b[1m   Installed\u001b[22m\u001b[39m PkgVersion ──────────────── v0.1.1\n",
            "\u001b[32m\u001b[1m   Installed\u001b[22m\u001b[39m IfElse ──────────────────── v0.1.1\n",
            "\u001b[32m\u001b[1m   Installed\u001b[22m\u001b[39m QOI ─────────────────────── v1.0.0\n",
            "\u001b[32m\u001b[1m   Installed\u001b[22m\u001b[39m ArnoldiMethod ───────────── v0.2.0\n",
            "\u001b[32m\u001b[1m   Installed\u001b[22m\u001b[39m Zygote ──────────────────── v0.6.34\n",
            "\u001b[32m\u001b[1m   Installed\u001b[22m\u001b[39m CustomUnitRanges ────────── v1.0.2\n",
            "\u001b[32m\u001b[1m   Installed\u001b[22m\u001b[39m Ratios ──────────────────── v0.4.2\n",
            "\u001b[32m\u001b[1m   Installed\u001b[22m\u001b[39m ImageMetadata ───────────── v0.9.8\n",
            "\u001b[32m\u001b[1m   Installed\u001b[22m\u001b[39m Graphics ────────────────── v1.1.1\n",
            "\u001b[32m\u001b[1m   Installed\u001b[22m\u001b[39m TranscodingStreams ──────── v0.9.6\n",
            "\u001b[32m\u001b[1m   Installed\u001b[22m\u001b[39m Clustering ──────────────── v0.14.2\n",
            "\u001b[32m\u001b[1m   Installed\u001b[22m\u001b[39m Graphs ──────────────────── v1.5.1\n",
            "\u001b[32m\u001b[1m   Installed\u001b[22m\u001b[39m MappedArrays ────────────── v0.4.1\n",
            "\u001b[32m\u001b[1m   Installed\u001b[22m\u001b[39m ImageMagick_jll ─────────── v6.9.10-12+3\n",
            "\u001b[32m\u001b[1m   Installed\u001b[22m\u001b[39m CatIndices ──────────────── v0.2.2\n",
            "\u001b[32m\u001b[1m   Installed\u001b[22m\u001b[39m ComputationalResources ──── v0.3.2\n",
            "\u001b[32m\u001b[1m   Installed\u001b[22m\u001b[39m CommonSubexpressions ────── v0.3.0\n",
            "\u001b[32m\u001b[1m   Installed\u001b[22m\u001b[39m ImageFiltering ──────────── v0.7.1\n",
            "\u001b[32m\u001b[1m   Installed\u001b[22m\u001b[39m ChainRules ──────────────── v1.23.0\n",
            "\u001b[32m\u001b[1m   Installed\u001b[22m\u001b[39m CodecZlib ───────────────── v0.7.0\n",
            "\u001b[32m\u001b[1m   Installed\u001b[22m\u001b[39m MosaicViews ─────────────── v0.3.3\n",
            "\u001b[32m\u001b[1m   Installed\u001b[22m\u001b[39m ImageContrastAdjustment ─── v0.3.10\n",
            "\u001b[32m\u001b[1m   Installed\u001b[22m\u001b[39m PaddedViews ─────────────── v0.5.11\n",
            "\u001b[32m\u001b[1m   Installed\u001b[22m\u001b[39m DiffRules ───────────────── v1.9.0\n",
            "\u001b[32m\u001b[1m   Installed\u001b[22m\u001b[39m ImageCore ───────────────── v0.9.3\n",
            "\u001b[32m\u001b[1m   Installed\u001b[22m\u001b[39m ImageTransformations ────── v0.9.4\n",
            "\u001b[32m\u001b[1m   Installed\u001b[22m\u001b[39m Flux ────────────────────── v0.12.8\n",
            "\u001b[32m\u001b[1m   Installed\u001b[22m\u001b[39m Imath_jll ───────────────── v3.1.2+0\n",
            "\u001b[32m\u001b[1m   Installed\u001b[22m\u001b[39m DiffResults ─────────────── v1.0.3\n",
            "\u001b[32m\u001b[1m   Installed\u001b[22m\u001b[39m ImageShow ───────────────── v0.3.3\n",
            "\u001b[32m\u001b[1m   Installed\u001b[22m\u001b[39m MKL_jll ─────────────────── v2021.1.1+2\n",
            "\u001b[32m\u001b[1m   Installed\u001b[22m\u001b[39m Inflate ─────────────────── v0.1.2\n",
            "\u001b[32m\u001b[1m   Installed\u001b[22m\u001b[39m IntegralArrays ──────────── v0.1.2\n",
            "\u001b[32m\u001b[1m   Installed\u001b[22m\u001b[39m ImageQualityIndexes ─────── v0.3.0\n",
            "\u001b[32m\u001b[1m   Installed\u001b[22m\u001b[39m TensorCore ──────────────── v0.1.1\n",
            "\u001b[32m\u001b[1m   Installed\u001b[22m\u001b[39m ColorVectorSpace ────────── v0.9.8\n",
            "\u001b[32m\u001b[1m   Installed\u001b[22m\u001b[39m StackViews ──────────────── v0.1.1\n",
            "\u001b[32m\u001b[1m   Installed\u001b[22m\u001b[39m Quaternions ─────────────── v0.4.2\n",
            "\u001b[32m\u001b[1m   Installed\u001b[22m\u001b[39m CoordinateTransformations ─ v0.6.2\n",
            "\u001b[32m\u001b[1m   Installed\u001b[22m\u001b[39m AbstractTrees ───────────── v0.3.4\n",
            "\u001b[32m\u001b[1m   Installed\u001b[22m\u001b[39m ArrayInterface ──────────── v3.2.2\n",
            "\u001b[32m\u001b[1m   Installed\u001b[22m\u001b[39m Rotations ───────────────── v1.2.0\n",
            "\u001b[32m\u001b[1m   Installed\u001b[22m\u001b[39m OpenEXR_jll ─────────────── v3.1.1+0\n",
            "\u001b[32m\u001b[1m   Installed\u001b[22m\u001b[39m FFTW_jll ────────────────── v3.3.10+0\n",
            "\u001b[32m\u001b[1m   Installed\u001b[22m\u001b[39m RangeArrays ─────────────── v0.3.2\n",
            "\u001b[32m\u001b[1m   Installed\u001b[22m\u001b[39m UnPack ──────────────────── v1.0.2\n",
            "\u001b[32m\u001b[1m   Installed\u001b[22m\u001b[39m SimpleTraits ────────────── v0.9.4\n",
            "\u001b[32m\u001b[1m   Installed\u001b[22m\u001b[39m DualNumbers ─────────────── v0.6.6\n",
            "\u001b[32m\u001b[1m   Installed\u001b[22m\u001b[39m ImageBase ───────────────── v0.1.5\n",
            "\u001b[32m\u001b[1m   Installed\u001b[22m\u001b[39m IntervalSets ────────────── v0.5.3\n",
            "\u001b[32m\u001b[1m   Installed\u001b[22m\u001b[39m libsixel_jll ────────────── v1.8.6+1\n",
            "\u001b[32m\u001b[1m   Installed\u001b[22m\u001b[39m SimpleWeightedGraphs ────── v1.2.1\n",
            "\u001b[32m\u001b[1m   Installed\u001b[22m\u001b[39m IndirectArrays ──────────── v1.0.0\n",
            "\u001b[32m\u001b[1m   Installed\u001b[22m\u001b[39m FillArrays ──────────────── v0.12.7\n",
            "\u001b[32m\u001b[1m   Installed\u001b[22m\u001b[39m ImageDistances ──────────── v0.2.15\n",
            "\u001b[32m\u001b[1m   Installed\u001b[22m\u001b[39m ForwardDiff ─────────────── v0.10.25\n",
            "\u001b[32m\u001b[1m   Installed\u001b[22m\u001b[39m AxisAlgorithms ──────────── v1.0.1\n",
            "\u001b[32m\u001b[1m   Installed\u001b[22m\u001b[39m WoodburyMatrices ────────── v0.5.5\n",
            "\u001b[32m\u001b[1m   Installed\u001b[22m\u001b[39m FFTViews ────────────────── v0.3.2\n",
            "\u001b[32m\u001b[1m   Installed\u001b[22m\u001b[39m Juno ────────────────────── v0.8.4\n",
            "\u001b[32m\u001b[1m   Installed\u001b[22m\u001b[39m ImageAxes ───────────────── v0.6.10\n",
            "\u001b[32m\u001b[1m   Installed\u001b[22m\u001b[39m ImageMorphology ─────────── v0.3.1\n",
            "\u001b[32m\u001b[1m   Installed\u001b[22m\u001b[39m Parameters ──────────────── v0.12.3\n",
            "\u001b[32m\u001b[1m   Installed\u001b[22m\u001b[39m Interpolations ──────────── v0.13.5\n",
            "\u001b[32m\u001b[1m    Updating\u001b[22m\u001b[39m `~/.julia/environments/v1.7/Project.toml`\n",
            " \u001b[90m [587475ba] \u001b[39m\u001b[92m+ Flux v0.12.8\u001b[39m\n",
            " \u001b[90m [d9f16b24] \u001b[39m\u001b[92m+ Functors v0.2.7\u001b[39m\n",
            " \u001b[90m [916415d5] \u001b[39m\u001b[92m+ Images v0.25.1\u001b[39m\n",
            " \u001b[90m [d96e819e] \u001b[39m\u001b[92m+ Parameters v0.12.3\u001b[39m\n",
            " \u001b[90m [e88e6eb3] \u001b[39m\u001b[92m+ Zygote v0.6.34\u001b[39m\n",
            " \u001b[90m [10745b16] \u001b[39m\u001b[92m+ Statistics\u001b[39m\n",
            "\u001b[32m\u001b[1m    Updating\u001b[22m\u001b[39m `~/.julia/environments/v1.7/Manifest.toml`\n",
            " \u001b[90m [1520ce14] \u001b[39m\u001b[92m+ AbstractTrees v0.3.4\u001b[39m\n",
            " \u001b[90m [ec485272] \u001b[39m\u001b[92m+ ArnoldiMethod v0.2.0\u001b[39m\n",
            " \u001b[90m [4fba245c] \u001b[39m\u001b[92m+ ArrayInterface v3.2.2\u001b[39m\n",
            " \u001b[90m [13072b0f] \u001b[39m\u001b[92m+ AxisAlgorithms v1.0.1\u001b[39m\n",
            " \u001b[90m [39de3d68] \u001b[39m\u001b[92m+ AxisArrays v0.4.4\u001b[39m\n",
            " \u001b[90m [49dc2e85] \u001b[39m\u001b[92m+ Calculus v0.5.1\u001b[39m\n",
            " \u001b[90m [aafaddc9] \u001b[39m\u001b[92m+ CatIndices v0.2.2\u001b[39m\n",
            " \u001b[90m [082447d4] \u001b[39m\u001b[92m+ ChainRules v1.23.0\u001b[39m\n",
            " \u001b[90m [aaaa29a8] \u001b[39m\u001b[92m+ Clustering v0.14.2\u001b[39m\n",
            " \u001b[90m [944b1d66] \u001b[39m\u001b[92m+ CodecZlib v0.7.0\u001b[39m\n",
            " \u001b[90m [c3611d14] \u001b[39m\u001b[92m+ ColorVectorSpace v0.9.8\u001b[39m\n",
            " \u001b[90m [bbf7d656] \u001b[39m\u001b[92m+ CommonSubexpressions v0.3.0\u001b[39m\n",
            " \u001b[90m [ed09eef8] \u001b[39m\u001b[92m+ ComputationalResources v0.3.2\u001b[39m\n",
            " \u001b[90m [150eb455] \u001b[39m\u001b[92m+ CoordinateTransformations v0.6.2\u001b[39m\n",
            " \u001b[90m [dc8bdbbb] \u001b[39m\u001b[92m+ CustomUnitRanges v1.0.2\u001b[39m\n",
            " \u001b[90m [163ba53b] \u001b[39m\u001b[92m+ DiffResults v1.0.3\u001b[39m\n",
            " \u001b[90m [b552c78f] \u001b[39m\u001b[92m+ DiffRules v1.9.0\u001b[39m\n",
            " \u001b[90m [b4f34e82] \u001b[39m\u001b[92m+ Distances v0.10.7\u001b[39m\n",
            " \u001b[90m [fa6b7ba4] \u001b[39m\u001b[92m+ DualNumbers v0.6.6\u001b[39m\n",
            " \u001b[90m [da5c29d0] \u001b[39m\u001b[92m+ EllipsisNotation v1.3.0\u001b[39m\n",
            " \u001b[90m [4f61f5a4] \u001b[39m\u001b[92m+ FFTViews v0.3.2\u001b[39m\n",
            " \u001b[90m [7a1cc6ca] \u001b[39m\u001b[92m+ FFTW v1.4.5\u001b[39m\n",
            " \u001b[90m [5789e2e9] \u001b[39m\u001b[92m+ FileIO v1.12.0\u001b[39m\n",
            " \u001b[90m [1a297f60] \u001b[39m\u001b[92m+ FillArrays v0.12.7\u001b[39m\n",
            " \u001b[90m [587475ba] \u001b[39m\u001b[92m+ Flux v0.12.8\u001b[39m\n",
            " \u001b[90m [f6369f11] \u001b[39m\u001b[92m+ ForwardDiff v0.10.25\u001b[39m\n",
            " \u001b[90m [d9f16b24] \u001b[39m\u001b[92m+ Functors v0.2.7\u001b[39m\n",
            " \u001b[90m [a2bd30eb] \u001b[39m\u001b[92m+ Graphics v1.1.1\u001b[39m\n",
            " \u001b[90m [86223c79] \u001b[39m\u001b[92m+ Graphs v1.5.1\u001b[39m\n",
            " \u001b[90m [7869d1d1] \u001b[39m\u001b[92m+ IRTools v0.4.4\u001b[39m\n",
            " \u001b[90m [615f187c] \u001b[39m\u001b[92m+ IfElse v0.1.1\u001b[39m\n",
            " \u001b[90m [2803e5a7] \u001b[39m\u001b[92m+ ImageAxes v0.6.10\u001b[39m\n",
            " \u001b[90m [c817782e] \u001b[39m\u001b[92m+ ImageBase v0.1.5\u001b[39m\n",
            " \u001b[90m [f332f351] \u001b[39m\u001b[92m+ ImageContrastAdjustment v0.3.10\u001b[39m\n",
            " \u001b[90m [a09fc81d] \u001b[39m\u001b[92m+ ImageCore v0.9.3\u001b[39m\n",
            " \u001b[90m [51556ac3] \u001b[39m\u001b[92m+ ImageDistances v0.2.15\u001b[39m\n",
            " \u001b[90m [6a3955dd] \u001b[39m\u001b[92m+ ImageFiltering v0.7.1\u001b[39m\n",
            " \u001b[90m [82e4d734] \u001b[39m\u001b[92m+ ImageIO v0.6.0\u001b[39m\n",
            " \u001b[90m [6218d12a] \u001b[39m\u001b[92m+ ImageMagick v1.2.2\u001b[39m\n",
            " \u001b[90m [bc367c6b] \u001b[39m\u001b[92m+ ImageMetadata v0.9.8\u001b[39m\n",
            " \u001b[90m [787d08f9] \u001b[39m\u001b[92m+ ImageMorphology v0.3.1\u001b[39m\n",
            " \u001b[90m [2996bd0c] \u001b[39m\u001b[92m+ ImageQualityIndexes v0.3.0\u001b[39m\n",
            " \u001b[90m [80713f31] \u001b[39m\u001b[92m+ ImageSegmentation v1.7.0\u001b[39m\n",
            " \u001b[90m [4e3cecfd] \u001b[39m\u001b[92m+ ImageShow v0.3.3\u001b[39m\n",
            " \u001b[90m [02fcd773] \u001b[39m\u001b[92m+ ImageTransformations v0.9.4\u001b[39m\n",
            " \u001b[90m [916415d5] \u001b[39m\u001b[92m+ Images v0.25.1\u001b[39m\n",
            " \u001b[90m [9b13fd28] \u001b[39m\u001b[92m+ IndirectArrays v1.0.0\u001b[39m\n",
            " \u001b[90m [d25df0c9] \u001b[39m\u001b[92m+ Inflate v0.1.2\u001b[39m\n",
            " \u001b[90m [1d092043] \u001b[39m\u001b[92m+ IntegralArrays v0.1.2\u001b[39m\n",
            " \u001b[90m [a98d9a8b] \u001b[39m\u001b[92m+ Interpolations v0.13.5\u001b[39m\n",
            " \u001b[90m [8197267c] \u001b[39m\u001b[92m+ IntervalSets v0.5.3\u001b[39m\n",
            " \u001b[90m [033835bb] \u001b[39m\u001b[92m+ JLD2 v0.4.17\u001b[39m\n",
            " \u001b[90m [e5e0dc1b] \u001b[39m\u001b[92m+ Juno v0.8.4\u001b[39m\n",
            " \u001b[90m [dbb5928d] \u001b[39m\u001b[92m+ MappedArrays v0.4.1\u001b[39m\n",
            " \u001b[90m [e89f7d12] \u001b[39m\u001b[92m+ Media v0.5.0\u001b[39m\n",
            " \u001b[90m [626554b9] \u001b[39m\u001b[92m+ MetaGraphs v0.7.1\u001b[39m\n",
            " \u001b[90m [e94cdb99] \u001b[39m\u001b[92m+ MosaicViews v0.3.3\u001b[39m\n",
            " \u001b[90m [872c559c] \u001b[39m\u001b[92m+ NNlib v0.7.34\u001b[39m\n",
            " \u001b[90m [a00861dc] \u001b[39m\u001b[92m+ NNlibCUDA v0.1.11\u001b[39m\n",
            " \u001b[90m [b8a86587] \u001b[39m\u001b[92m+ NearestNeighbors v0.4.9\u001b[39m\n",
            " \u001b[90m [f09324ee] \u001b[39m\u001b[92m+ Netpbm v1.0.2\u001b[39m\n",
            " \u001b[90m [6fe1bfb0] \u001b[39m\u001b[92m+ OffsetArrays v1.10.8\u001b[39m\n",
            " \u001b[90m [52e1d378] \u001b[39m\u001b[92m+ OpenEXR v0.3.2\u001b[39m\n",
            " \u001b[90m [f57f5aa1] \u001b[39m\u001b[92m+ PNGFiles v0.3.12\u001b[39m\n",
            " \u001b[90m [5432bcbf] \u001b[39m\u001b[92m+ PaddedViews v0.5.11\u001b[39m\n",
            " \u001b[90m [d96e819e] \u001b[39m\u001b[92m+ Parameters v0.12.3\u001b[39m\n",
            " \u001b[90m [eebad327] \u001b[39m\u001b[92m+ PkgVersion v0.1.1\u001b[39m\n",
            " \u001b[90m [92933f4c] \u001b[39m\u001b[92m+ ProgressMeter v1.7.1\u001b[39m\n",
            " \u001b[90m [4b34888f] \u001b[39m\u001b[92m+ QOI v1.0.0\u001b[39m\n",
            " \u001b[90m [94ee1d12] \u001b[39m\u001b[92m+ Quaternions v0.4.2\u001b[39m\n",
            " \u001b[90m [b3c3ace0] \u001b[39m\u001b[92m+ RangeArrays v0.3.2\u001b[39m\n",
            " \u001b[90m [c84ed2f1] \u001b[39m\u001b[92m+ Ratios v0.4.2\u001b[39m\n",
            " \u001b[90m [c1ae055f] \u001b[39m\u001b[92m+ RealDot v0.1.0\u001b[39m\n",
            " \u001b[90m [dee08c22] \u001b[39m\u001b[92m+ RegionTrees v0.3.2\u001b[39m\n",
            " \u001b[90m [6038ab10] \u001b[39m\u001b[92m+ Rotations v1.2.0\u001b[39m\n",
            " \u001b[90m [699a6c99] \u001b[39m\u001b[92m+ SimpleTraits v0.9.4\u001b[39m\n",
            " \u001b[90m [47aef6b3] \u001b[39m\u001b[92m+ SimpleWeightedGraphs v1.2.1\u001b[39m\n",
            " \u001b[90m [45858cf5] \u001b[39m\u001b[92m+ Sixel v0.1.2\u001b[39m\n",
            " \u001b[90m [cae243ae] \u001b[39m\u001b[92m+ StackViews v0.1.1\u001b[39m\n",
            " \u001b[90m [aedffcd0] \u001b[39m\u001b[92m+ Static v0.4.1\u001b[39m\n",
            " \u001b[90m [62fd8b95] \u001b[39m\u001b[92m+ TensorCore v0.1.1\u001b[39m\n",
            " \u001b[90m [731e570b] \u001b[39m\u001b[92m+ TiffImages v0.5.3\u001b[39m\n",
            " \u001b[90m [06e1c1a7] \u001b[39m\u001b[92m+ TiledIteration v0.3.1\u001b[39m\n",
            " \u001b[90m [3bb67fe8] \u001b[39m\u001b[92m+ TranscodingStreams v0.9.6\u001b[39m\n",
            " \u001b[90m [3a884ed6] \u001b[39m\u001b[92m+ UnPack v1.0.2\u001b[39m\n",
            " \u001b[90m [efce3f68] \u001b[39m\u001b[92m+ WoodburyMatrices v0.5.5\u001b[39m\n",
            " \u001b[90m [a5390f91] \u001b[39m\u001b[92m+ ZipFile v0.9.4\u001b[39m\n",
            " \u001b[90m [e88e6eb3] \u001b[39m\u001b[92m+ Zygote v0.6.34\u001b[39m\n",
            " \u001b[90m [700de1a5] \u001b[39m\u001b[92m+ ZygoteRules v0.2.2\u001b[39m\n",
            " \u001b[90m [f5851436] \u001b[39m\u001b[92m+ FFTW_jll v3.3.10+0\u001b[39m\n",
            " \u001b[90m [c73af94c] \u001b[39m\u001b[92m+ ImageMagick_jll v6.9.10-12+3\u001b[39m\n",
            " \u001b[90m [905a6f67] \u001b[39m\u001b[92m+ Imath_jll v3.1.2+0\u001b[39m\n",
            " \u001b[90m [1d5cc7b8] \u001b[39m\u001b[92m+ IntelOpenMP_jll v2018.0.3+2\u001b[39m\n",
            " \u001b[90m [856f044c] \u001b[39m\u001b[92m+ MKL_jll v2021.1.1+2\u001b[39m\n",
            " \u001b[90m [18a262bb] \u001b[39m\u001b[92m+ OpenEXR_jll v3.1.1+0\u001b[39m\n",
            " \u001b[90m [075b6546] \u001b[39m\u001b[92m+ libsixel_jll v1.8.6+1\u001b[39m\n",
            "\u001b[32m\u001b[1mPrecompiling\u001b[22m\u001b[39m project...\n",
            "\u001b[32m  ✓ \u001b[39m\u001b[90mRangeArrays\u001b[39m\n",
            "\u001b[32m  ✓ \u001b[39m\u001b[90mIndirectArrays\u001b[39m\n",
            "\u001b[32m  ✓ \u001b[39m\u001b[90mCalculus\u001b[39m\n",
            "\u001b[32m  ✓ \u001b[39m\u001b[90mTensorCore\u001b[39m\n",
            "\u001b[32m  ✓ \u001b[39m\u001b[90mUnPack\u001b[39m\n",
            "\u001b[32m  ✓ \u001b[39m\u001b[90mWoodburyMatrices\u001b[39m\n",
            "\u001b[32m  ✓ \u001b[39m\u001b[90mPkgVersion\u001b[39m\n",
            "\u001b[32m  ✓ \u001b[39m\u001b[90mFillArrays\u001b[39m\n",
            "\u001b[32m  ✓ \u001b[39m\u001b[90mArnoldiMethod\u001b[39m\n",
            "\u001b[32m  ✓ \u001b[39m\u001b[90mDistances\u001b[39m\n",
            "\u001b[32m  ✓ \u001b[39m\u001b[90mRealDot\u001b[39m\n",
            "\u001b[32m  ✓ \u001b[39m\u001b[90mZygoteRules\u001b[39m\n",
            "\u001b[32m  ✓ \u001b[39m\u001b[90mCustomUnitRanges\u001b[39m\n",
            "\u001b[32m  ✓ \u001b[39m\u001b[90mAbstractTrees\u001b[39m\n",
            "\u001b[32m  ✓ \u001b[39m\u001b[90mProgressMeter\u001b[39m\n",
            "\u001b[32m  ✓ \u001b[39m\u001b[90mTranscodingStreams\u001b[39m\n",
            "\u001b[32m  ✓ \u001b[39m\u001b[90mCoordinateTransformations\u001b[39m\n",
            "\u001b[32m  ✓ \u001b[39m\u001b[90mRatios\u001b[39m\n",
            "\u001b[32m  ✓ \u001b[39m\u001b[90mIfElse\u001b[39m\n",
            "\u001b[32m  ✓ \u001b[39m\u001b[90mInflate\u001b[39m\n",
            "\u001b[32m  ✓ \u001b[39m\u001b[90mIRTools\u001b[39m\n",
            "\u001b[32m  ✓ \u001b[39m\u001b[90mComputationalResources\u001b[39m\n",
            "\u001b[32m  ✓ \u001b[39m\u001b[90mMappedArrays\u001b[39m\n",
            "\u001b[32m  ✓ \u001b[39mFunctors\n",
            "\u001b[32m  ✓ \u001b[39m\u001b[90mSimpleTraits\u001b[39m\n",
            "\u001b[32m  ✓ \u001b[39m\u001b[90mDiffResults\u001b[39m\n",
            "\u001b[32m  ✓ \u001b[39m\u001b[90mCommonSubexpressions\u001b[39m\n",
            "\u001b[32m  ✓ \u001b[39m\u001b[90mFileIO\u001b[39m\n",
            "\u001b[32m  ✓ \u001b[39m\u001b[90mRegionTrees\u001b[39m\n",
            "\u001b[32m  ✓ \u001b[39m\u001b[90mZipFile\u001b[39m\n",
            "\u001b[32m  ✓ \u001b[39m\u001b[90mMedia\u001b[39m\n",
            "\u001b[32m  ✓ \u001b[39m\u001b[90mImath_jll\u001b[39m\n",
            "\u001b[32m  ✓ \u001b[39m\u001b[90mOffsetArrays\u001b[39m\n",
            "\u001b[32m  ✓ \u001b[39m\u001b[90mIntelOpenMP_jll\u001b[39m\n",
            "\u001b[32m  ✓ \u001b[39m\u001b[90mFFTW_jll\u001b[39m\n",
            "\u001b[32m  ✓ \u001b[39m\u001b[90mlibsixel_jll\u001b[39m\n",
            "\u001b[32m  ✓ \u001b[39m\u001b[90mGraphics\u001b[39m\n",
            "\u001b[32m  ✓ \u001b[39m\u001b[90mDiffRules\u001b[39m\n",
            "\u001b[32m  ✓ \u001b[39m\u001b[90mNNlib\u001b[39m\n",
            "\u001b[32m  ✓ \u001b[39m\u001b[90mImageMagick_jll\u001b[39m\n",
            "\u001b[32m  ✓ \u001b[39m\u001b[90mDualNumbers\u001b[39m\n",
            "\u001b[32m  ✓ \u001b[39mParameters\n",
            "\u001b[32m  ✓ \u001b[39m\u001b[90mAxisAlgorithms\u001b[39m\n",
            "\u001b[32m  ✓ \u001b[39m\u001b[90mNearestNeighbors\u001b[39m\n",
            "\u001b[32m  ✓ \u001b[39m\u001b[90mCodecZlib\u001b[39m\n",
            "\u001b[32m  ✓ \u001b[39m\u001b[90mColorVectorSpace\u001b[39m\n",
            "\u001b[32m  ✓ \u001b[39m\u001b[90mStatic\u001b[39m\n",
            "\u001b[32m  ✓ \u001b[39m\u001b[90mQOI\u001b[39m\n",
            "\u001b[32m  ✓ \u001b[39m\u001b[90mChainRules\u001b[39m\n",
            "\u001b[32m  ✓ \u001b[39m\u001b[90mJLD2\u001b[39m\n",
            "\u001b[32m  ✓ \u001b[39m\u001b[90mJuno\u001b[39m\n",
            "\u001b[32m  ✓ \u001b[39m\u001b[90mTiledIteration\u001b[39m\n",
            "\u001b[32m  ✓ \u001b[39m\u001b[90mOpenEXR_jll\u001b[39m\n",
            "\u001b[32m  ✓ \u001b[39m\u001b[90mGraphs\u001b[39m\n",
            "\u001b[32m  ✓ \u001b[39m\u001b[90mStackViews\u001b[39m\n",
            "\u001b[32m  ✓ \u001b[39m\u001b[90mCatIndices\u001b[39m\n",
            "\u001b[32m  ✓ \u001b[39m\u001b[90mPaddedViews\u001b[39m\n",
            "\u001b[32m  ✓ \u001b[39m\u001b[90mMKL_jll\u001b[39m\n",
            "\u001b[32m  ✓ \u001b[39m\u001b[90mForwardDiff\u001b[39m\n",
            "\u001b[32m  ✓ \u001b[39m\u001b[90mQuaternions\u001b[39m\n",
            "\u001b[32m  ✓ \u001b[39m\u001b[90mNNlibCUDA\u001b[39m\n",
            "\u001b[32m  ✓ \u001b[39m\u001b[90mInterpolations\u001b[39m\n",
            "\u001b[32m  ✓ \u001b[39m\u001b[90mArrayInterface\u001b[39m\n",
            "\u001b[32m  ✓ \u001b[39m\u001b[90mClustering\u001b[39m\n",
            "\u001b[32m  ✓ \u001b[39m\u001b[90mOpenEXR\u001b[39m\n",
            "\u001b[32m  ✓ \u001b[39m\u001b[90mMetaGraphs\u001b[39m\n",
            "\u001b[32m  ✓ \u001b[39m\u001b[90mSimpleWeightedGraphs\u001b[39m\n",
            "\u001b[32m  ✓ \u001b[39m\u001b[90mMosaicViews\u001b[39m\n",
            "\u001b[32m  ✓ \u001b[39m\u001b[90mTiffImages\u001b[39m\n",
            "\u001b[32m  ✓ \u001b[39m\u001b[90mFFTW\u001b[39m\n",
            "\u001b[32m  ✓ \u001b[39m\u001b[90mEllipsisNotation\u001b[39m\n",
            "\u001b[32m  ✓ \u001b[39m\u001b[90mRotations\u001b[39m\n",
            "\u001b[32m  ✓ \u001b[39mZygote\n",
            "\u001b[32m  ✓ \u001b[39m\u001b[90mFFTViews\u001b[39m\n",
            "\u001b[32m  ✓ \u001b[39m\u001b[90mIntervalSets\u001b[39m\n",
            "\u001b[32m  ✓ \u001b[39m\u001b[90mIntegralArrays\u001b[39m\n",
            "\u001b[32m  ✓ \u001b[39m\u001b[90mAxisArrays\u001b[39m\n",
            "\u001b[32m  ✓ \u001b[39mFlux\n",
            "\u001b[32m  ✓ \u001b[39m\u001b[90mImageCore\u001b[39m\n",
            "\u001b[32m  ✓ \u001b[39m\u001b[90mImageMorphology\u001b[39m\n",
            "\u001b[32m  ✓ \u001b[39m\u001b[90mImageBase\u001b[39m\n",
            "\u001b[32m  ✓ \u001b[39m\u001b[90mImageMagick\u001b[39m\n",
            "\u001b[32m  ✓ \u001b[39m\u001b[90mSixel\u001b[39m\n",
            "\u001b[32m  ✓ \u001b[39m\u001b[90mNetpbm\u001b[39m\n",
            "\u001b[32m  ✓ \u001b[39m\u001b[90mImageDistances\u001b[39m\n",
            "\u001b[32m  ✓ \u001b[39m\u001b[90mPNGFiles\u001b[39m\n",
            "\u001b[32m  ✓ \u001b[39m\u001b[90mImageShow\u001b[39m\n",
            "\u001b[32m  ✓ \u001b[39m\u001b[90mImageAxes\u001b[39m\n",
            "\u001b[32m  ✓ \u001b[39m\u001b[90mImageIO\u001b[39m\n",
            "\u001b[32m  ✓ \u001b[39m\u001b[90mImageMetadata\u001b[39m\n",
            "\u001b[32m  ✓ \u001b[39m\u001b[90mImageTransformations\u001b[39m\n",
            "\u001b[32m  ✓ \u001b[39m\u001b[90mImageContrastAdjustment\u001b[39m\n",
            "\u001b[32m  ✓ \u001b[39m\u001b[90mImageFiltering\u001b[39m\n",
            "\u001b[32m  ✓ \u001b[39m\u001b[90mImageQualityIndexes\u001b[39m\n",
            "\u001b[32m  ✓ \u001b[39m\u001b[90mImageSegmentation\u001b[39m\n",
            "\u001b[32m  ✓ \u001b[39mImages\n",
            "  96 dependencies successfully precompiled in 159 seconds (147 already precompiled, 3 skipped during auto due to previous errors)\n"
          ]
        }
      ]
    },
    {
      "cell_type": "code",
      "source": [
        "using Functors\n",
        "using Base.Iterators: partition\n",
        "using Flux\n",
        "using Flux.Optimise: update!\n",
        "using Flux: logitbinarycrossentropy\n",
        "using Flux.Losses: mse, mae\n",
        "using Images\n",
        "using Statistics\n",
        "using Parameters: @with_kw\n",
        "using Random\n",
        "using Printf\n",
        "using Zygote\n",
        "using CUDA\n",
        "if has_cuda()\t\t# Check if CUDA is available\n",
        "    @info \"CUDA is on\"\n",
        "    CUDA.allowscalar(false)\n",
        "end\n",
        "\n",
        "\n",
        "size_img = 180\n",
        "\n",
        "@with_kw struct HyperParams\n",
        "    batch_size::Int = 5\n",
        "    epochs::Int = 100\n",
        "    verbose_freq::Int = 800\n",
        "    size_dataset::Int = 1000\n",
        "    lr_dscr_A::Float64 = 0.00005\n",
        "    lr_gen_A::Float64 = 0.00005\n",
        "    lr_dscr_B::Float64 = 0.00005\n",
        "    lr_gen_B::Float64 = 0.00005\n",
        "end"
      ],
      "metadata": {
        "colab": {
          "base_uri": "https://localhost:8080/"
        },
        "id": "nkruoU9AIfUK",
        "outputId": "d87bcf6e-c171-4c9f-8e3c-1abcff25e0b4"
      },
      "execution_count": 96,
      "outputs": [
        {
          "output_type": "stream",
          "name": "stderr",
          "text": [
            "┌ Info: CUDA is on\n",
            "└ @ Main In[96]:15\n"
          ]
        },
        {
          "output_type": "execute_result",
          "data": {
            "text/plain": [
              "HyperParams"
            ]
          },
          "metadata": {},
          "execution_count": 96
        }
      ]
    },
    {
      "cell_type": "markdown",
      "source": [
        "# Netwoks.jl"
      ],
      "metadata": {
        "id": "aE2nxlHCAqsP"
      }
    },
    {
      "cell_type": "code",
      "source": [
        "struct ConvBlock\n",
        "    conv\n",
        "end\n",
        "\n",
        "@functor ConvBlock\n",
        "function ConvBlock(\n",
        "    kernel_size::Int,\n",
        "    in_channels::Int,\n",
        "    out_channels::Int,\n",
        "    act::Bool = true,\n",
        "    down::Bool = true;\n",
        "    kwargs...\n",
        ") \n",
        "return ConvBlock(\n",
        "    Chain(\n",
        "        if down\n",
        "            Conv((kernel_size, kernel_size), in_channels => out_channels; kwargs...)\n",
        "        else\n",
        "            ConvTranspose((kernel_size, kernel_size), in_channels => out_channels; kwargs...)\n",
        "        end,\n",
        "        InstanceNorm(out_channels),\n",
        "        if act \n",
        "           x -> relu.(x) \n",
        "        else \n",
        "            identity\n",
        "        end)\n",
        ") \n",
        "end\n",
        "\n",
        "function (net::ConvBlock)(x)\n",
        "    return net.conv(x)\n",
        "end\n",
        "\n",
        "struct ResidualBlock\n",
        "    block\n",
        "end\n",
        "\n",
        "@functor ResidualBlock\n",
        "function ResidualBlock(\n",
        "    in_channels::Int\n",
        ") return ResidualBlock(\n",
        "    Chain(\n",
        "        ConvBlock(3, in_channels, in_channels,true,true; pad=1),\n",
        "        ConvBlock(3, in_channels, in_channels,false,true;pad=1)\n",
        "    )\n",
        ") \n",
        "end\n",
        "\n",
        "function(net::ResidualBlock)(x)\n",
        "    return x + net.block(x)\n",
        "end\n",
        "\n",
        "struct Block\n",
        "    conv\n",
        "end\n",
        "\n",
        "@functor Block\n",
        "function Block(\n",
        "    in_channels::Int,\n",
        "    out_channels::Int;\n",
        "    stride::Int\n",
        ") return Block(\n",
        "    Chain(\n",
        "        Conv((4,4), in_channels=>out_channels; stride=stride, pad=1),\n",
        "        InstanceNorm(out_channels),\n",
        "        x -> leakyrelu.(x, 0.2)\n",
        "    )\n",
        ")\n",
        "end\n",
        "\n",
        "function(net::Block)(x)\n",
        "    return net.conv(x)\n",
        "end"
      ],
      "metadata": {
        "id": "I2SHyai7AuEG"
      },
      "execution_count": 50,
      "outputs": []
    },
    {
      "cell_type": "markdown",
      "source": [
        "# Discriminator.jl"
      ],
      "metadata": {
        "id": "myJSQZkLAwZa"
      }
    },
    {
      "cell_type": "code",
      "source": [
        "struct Discriminator\n",
        "    initial\n",
        "    model\n",
        "end\n",
        "\n",
        "@functor Discriminator\n",
        "function Discriminator(\n",
        "    in_channels::Int = 3,\n",
        "    features::Any = [64, 128, 256, 512]\n",
        ") \n",
        "    layers = []\n",
        "    channel = features[1]\n",
        "    for index in range(2, length(features))\n",
        "            if features[index] != last(features)\n",
        "                push!(layers, \n",
        "                    Block(channel, features[index], stride=2)\n",
        "                )\n",
        "            else\n",
        "                push!(layers, \n",
        "                    Block(channel, features[index], stride=1)\n",
        "                )\n",
        "            end\n",
        "            channel = features[index]\n",
        "    end\n",
        "    push!(layers,\n",
        "        Conv((4,4), channel => 1; stride=1, pad=1)    \n",
        "    )\n",
        "return Discriminator(\n",
        "    Chain(\n",
        "        Conv((4,4), in_channels=>features[1]; stride=2, pad=1),\n",
        "        x -> leakyrelu.(x, 0.2)\n",
        "    ),\n",
        "    Chain(layers...)\n",
        ") |> gpu\n",
        "end\n",
        "\n",
        "function (net::Discriminator)(x)\n",
        "    input = net.initial(x)\n",
        "    return sigmoid.(net.model(input))\n",
        "end\n",
        "\n",
        "using Random\n",
        "function test()\n",
        "    img_channels = 3\n",
        "    img_size = 100\n",
        "    ## need to explicity type to avoid Slow fallback implementation \n",
        "    ## https://discourse.julialang.org/t/flux-con-warning/49456\n",
        "    x = randn(Float32, (img_size, img_size, img_channels, 5))\n",
        "    preds = Discriminator()\n",
        "    println(size(preds(x)))\n",
        "end"
      ],
      "metadata": {
        "id": "6-yB9swUA0PS",
        "colab": {
          "base_uri": "https://localhost:8080/"
        },
        "outputId": "c3388b63-fb64-4a14-9c7c-4270694e29d5"
      },
      "execution_count": 32,
      "outputs": [
        {
          "output_type": "execute_result",
          "data": {
            "text/plain": [
              "test (generic function with 1 method)"
            ]
          },
          "metadata": {},
          "execution_count": 32
        }
      ]
    },
    {
      "cell_type": "markdown",
      "source": [
        "# Generator.jl\n"
      ],
      "metadata": {
        "id": "gF9IvfxjA6oa"
      }
    },
    {
      "cell_type": "code",
      "source": [
        "struct Generator\n",
        "    initial\n",
        "    downblocks\n",
        "    resblocks\n",
        "    upblocks\n",
        "    final\n",
        "end\n",
        "\n",
        "@functor Generator\n",
        "function Generator(\n",
        "    in_channels::Int,\n",
        "    num_features::Int = 64,\n",
        "    num_residual::Int = 9,\n",
        ")\n",
        "return Generator(\n",
        "    Chain(\n",
        "        Conv((7,7), in_channels => num_features; stride=1, pad=3),\n",
        "        InstanceNorm(num_features),\n",
        "        x -> relu.(x)\n",
        "    ),\n",
        "    [\n",
        "        ConvBlock(3, num_features, num_features*2, true, true;stride=2 ,pad=1), \n",
        "        ConvBlock(3, num_features*2, num_features*4, true, true;stride=2 ,pad=1),  \n",
        "    ],\n",
        "    Chain([ResidualBlock(num_features*4) for _ in range(1, length=num_residual)]...),\n",
        "    [\n",
        "        ConvBlock(3, num_features*4, num_features*2,true,false; stride=2 ,pad=SamePad()), \n",
        "        ConvBlock(3, num_features*2, num_features,true,false; stride=2 ,pad=SamePad()),  \n",
        "    ],\n",
        "    Conv((7,7),num_features=>in_channels; stride=1,pad=3)\n",
        ")  |> gpu\n",
        "end\n",
        "\n",
        "function (net::Generator)(x)\n",
        "    input = net.initial(x)\n",
        "    for layer in net.downblocks\n",
        "        input = layer(input)\n",
        "    end\n",
        "    input = net.resblocks(input)\n",
        "    for layer in net.upblocks\n",
        "        input = layer(input)\n",
        "    end\n",
        "    return tanh.(net.final(input))\n",
        "end"
      ],
      "metadata": {
        "id": "TKj4L69OA9M1"
      },
      "execution_count": 51,
      "outputs": []
    },
    {
      "cell_type": "markdown",
      "source": [
        "# Cyclegan.jl"
      ],
      "metadata": {
        "id": "ixF1ztEABULp"
      }
    },
    {
      "cell_type": "code",
      "source": [
        "# reading the dataset\n",
        "function convertI2Float(img)\n",
        "    img_resize = imresize(float.(img), (size_img,size_img))\n",
        "    if length(size(img_resize)) == 2\n",
        "        img_resize = RGB.(img_resize)\n",
        "    end\n",
        "\treturn permutedims(channelview(img_resize), (3,2,1))\n",
        "end\n",
        "\n",
        "function load_images(path::String, size::Int)\n",
        "\timages= zeros(Float32,size_img,size_img,3,size)\n",
        "\tfor (index, img) in enumerate(readdir(path, join = true))\n",
        "\t\timages[:,:,:,index] = convertI2Float(load(img))\n",
        "        if index == size\n",
        "            break\n",
        "        end\n",
        "\tend\n",
        "\treturn images |> gpu\n",
        "end\n",
        "\n",
        "function load_data(hparams)\n",
        "    # Load folder dataset\n",
        "    images_A = load_images(\"horse2zebra/trainA/\", hparams.size_dataset)\n",
        "    images_B = load_images(\"horse2zebra/trainB/\", hparams.size_dataset)\n",
        "    data = [ (images_A[:,:,:, r], images_B[:,:,:, r]) |> gpu for r in partition(1:hparams.size_dataset, hparams.batch_size)]\n",
        "    return data\n",
        "end"
      ],
      "metadata": {
        "id": "ZPp55HIMBcYZ",
        "colab": {
          "base_uri": "https://localhost:8080/"
        },
        "outputId": "c15fcbeb-2242-4dc4-810b-55fb93010ef6"
      },
      "execution_count": 83,
      "outputs": [
        {
          "output_type": "execute_result",
          "data": {
            "text/plain": [
              "load_data (generic function with 1 method)"
            ]
          },
          "metadata": {},
          "execution_count": 83
        }
      ]
    },
    {
      "cell_type": "code",
      "source": [
        "# Calculate errors\n",
        "function calculate_loss_discr(real, fake)\n",
        "    return ((real + fake) / 2)\n",
        "end\n",
        "\n",
        "function calculate_loss_gen(loss_G_A, loss_G_B, cycle_A_loss, \n",
        "    cycle_B_loss)\n",
        "    return (loss_G_A\n",
        "        + loss_G_B\n",
        "        + cycle_A_loss * 10\n",
        "        + cycle_B_loss * 10)\n",
        "end"
      ],
      "metadata": {
        "id": "u8zOiRVCBpaC",
        "colab": {
          "base_uri": "https://localhost:8080/"
        },
        "outputId": "2baee5cf-0076-4d3c-db01-5e888ea071ca"
      },
      "execution_count": 84,
      "outputs": [
        {
          "output_type": "execute_result",
          "data": {
            "text/plain": [
              "calculate_loss_gen (generic function with 1 method)"
            ]
          },
          "metadata": {},
          "execution_count": 84
        }
      ]
    },
    {
      "cell_type": "code",
      "source": [
        "# train discr\n",
        "function train_discr(discr_A, discr_B, original_A, original_B,\n",
        "                     fake_A, fake_B, opt_discr)\n",
        "    ps = Flux.params(discr_A, discr_B)\n",
        "    loss, back = Zygote.pullback(ps) do\n",
        "                        #calculate A\n",
        "                        D_A_real = discr_A(original_A)\n",
        "                        D_A_fake = discr_A(fake_A)\n",
        "                        D_A_real_loss = mse(D_A_real, gpu(ones(size(D_A_real))))\n",
        "                        D_A_fake_loss = mse(D_A_fake, gpu(zeros(size(D_A_fake)))) \n",
        "                        D_A_loss = D_A_real_loss + D_A_fake_loss\n",
        "\n",
        "                        #calculate A\n",
        "                        D_B_real = discr_B(original_B)\n",
        "                        D_B_fake = discr_B(fake_B)\n",
        "                        D_B_real_loss = mse(D_B_real, gpu(ones(size(D_B_real))))\n",
        "                        D_B_fake_loss = mse(D_B_fake, gpu(zeros(size(D_B_fake))))\n",
        "                        D_B_loss = D_B_real_loss + D_B_fake_loss\n",
        "                        calculate_loss_discr(D_A_loss, D_B_loss)\n",
        "    end\n",
        "    grads = back(1.f0)\n",
        "    update!(opt_discr, ps, grads)\n",
        "\n",
        "    return loss\n",
        "end\n",
        "\n",
        "Zygote.@nograd train_discr"
      ],
      "metadata": {
        "id": "eIHaLgHsBt2n"
      },
      "execution_count": 85,
      "outputs": []
    },
    {
      "cell_type": "code",
      "source": [
        "#train gen\n",
        "function train_gan(gen_A, gen_B, discr_A, discr_B, original_A, original_B, opt_gen, opt_discr)\n",
        "    loss = Dict()\n",
        "    ps = Flux.params(gen_A, gen_B)\n",
        "    loss[\"G_loss\"], back = Zygote.pullback(ps) do\n",
        "                            fake_A = gen_A(original_B)\n",
        "                            fake_B = gen_B(original_A)\n",
        "                            loss[\"D_loss\"]= train_discr(discr_A, discr_B,\n",
        "                                                        original_A, original_B,\n",
        "                                                        fake_A, fake_B, opt_discr)\n",
        "                            # adversarial loss for both generators\n",
        "                            D_A_fake = discr_A(fake_A)\n",
        "                            D_B_fake = discr_B(fake_B)\n",
        "                            loss_G_A = mse(D_A_fake, gpu(ones(size(D_A_fake))))\n",
        "                            loss_G_B = mse(D_B_fake, gpu(ones(size(D_B_fake))))\n",
        "\n",
        "                            #cycle loss\n",
        "                            cycle_B = gen_B(fake_A)\n",
        "                            cycle_A = gen_A(fake_B)\n",
        "                            cycle_B_loss = mae(original_B, cycle_B)\n",
        "                            cycle_A_loss = mae(original_A, cycle_A)\n",
        "\n",
        "                            # identity loss (remove these for efficiency if you set lambda_identity=0)\n",
        "                            #identity_B = gen_B(original_B)\n",
        "                            #identity_A = gen_A(original_A)\n",
        "                            #identity_B_loss = mae(original_B, identity_B)\n",
        "                            #identity_A_loss = mae(original_A, identity_A)\n",
        "                            \n",
        "                            calculate_loss_gen(loss_G_A, loss_G_B, cycle_A_loss, cycle_B_loss)\n",
        "    end\n",
        "    grads = back(1.f0)\n",
        "    update!(opt_gen, ps, grads)\n",
        "    return loss\n",
        "end"
      ],
      "metadata": {
        "id": "B82M2526Bzmn",
        "colab": {
          "base_uri": "https://localhost:8080/"
        },
        "outputId": "d9b0f629-70e2-4393-f76e-e92cd00b8b8f"
      },
      "execution_count": 86,
      "outputs": [
        {
          "output_type": "execute_result",
          "data": {
            "text/plain": [
              "train_gan (generic function with 1 method)"
            ]
          },
          "metadata": {},
          "execution_count": 86
        }
      ]
    },
    {
      "cell_type": "code",
      "source": [
        "# output function\n",
        "function create_output_image(gen, image)\n",
        "    @eval Flux.istraining() = false\n",
        "    fake_image = cpu(gen(gpu(image)))\n",
        "    @eval Flux.istraining() = true\n",
        "    image_array = permutedims(dropdims(fake_image; dims=4), (3,2,1))\n",
        "    image_array = colorview(RGB, image_array)\n",
        "    return clamp01nan.(image_array)\n",
        "end\n"
      ],
      "metadata": {
        "id": "u9lI5lpFB7Rq",
        "colab": {
          "base_uri": "https://localhost:8080/"
        },
        "outputId": "d1c241a3-bc9f-47b7-fc59-e5268dbafcce"
      },
      "execution_count": 87,
      "outputs": [
        {
          "output_type": "execute_result",
          "data": {
            "text/plain": [
              "create_output_image (generic function with 1 method)"
            ]
          },
          "metadata": {},
          "execution_count": 87
        }
      ]
    },
    {
      "cell_type": "code",
      "source": [
        "#train cyclegan function\n",
        "function train()\n",
        "    println(\"STARTING TRAINING\")\n",
        "    hparams = HyperParams()\n",
        "\n",
        "    data = load_data(hparams)\n",
        "\n",
        "    #test images\n",
        "    test_images_A=zeros(Float32,size_img,size_img,3,1)\n",
        "    test_images_B=zeros(Float32,size_img,size_img,3,1)\n",
        "    test_images_A[:,:,:,1] = convertI2Float(load(\"horse2zebra/testA/n02381460_1000.jpg\"))\n",
        "    test_images_B[:,:,:,1] = convertI2Float(load(\"horse2zebra/testB/n02391049_100.jpg\"))\n",
        "\n",
        "    # Discriminator\n",
        "    dscr_A = Discriminator()\n",
        "    dscr_B = Discriminator() \n",
        "\n",
        "    # Generator\n",
        "    gen_A =  Generator(3, 64) |> gpu\n",
        "    gen_B =  Generator(3, 64) |> gpu\n",
        "\n",
        "    # Optimizers\n",
        "    opt_dscr = ADAM(hparams.lr_dscr_A, (0.5,0.99))\n",
        "    opt_gen = ADAM(hparams.lr_gen_A, (0.5,0.99))\n",
        "\n",
        "    isdir(\"output\")||mkdir(\"output\")\n",
        "    \n",
        "    # Training\n",
        "    train_steps = 0\n",
        "    for ep in 1:hparams.epochs\n",
        "        @info \"Epoch $ep\"\n",
        "        for (x,y) in data\n",
        "                # Update discriminator and generator\n",
        "            loss = train_gan(gen_A, gen_B, dscr_A, dscr_B, x, y, opt_gen, opt_dscr)\n",
        "            if train_steps % hparams.verbose_freq == 0\n",
        "                @info(\"Train step $(ep), Discriminator loss = $(loss[\"D_loss\"]), Generator loss = $(loss[\"G_loss\"])\")\n",
        "                # Save generated fake image\n",
        "                output_image_A = create_output_image(gen_A, test_images_B)\n",
        "                output_image_B = create_output_image(gen_B, test_images_A)\n",
        "                save(@sprintf(\"output/cgan_A_steps_%06d.png\", train_steps), output_image_A)\n",
        "                save(@sprintf(\"output/cgan_B_steps_%06d.png\", train_steps), output_image_B)\n",
        "            end\n",
        "        train_steps += 1\n",
        "        end\n",
        "    end\n",
        "    println(\"Finish Training\")\n",
        "    output_image_A = create_output_image(gen_A, test_images_B)\n",
        "    output_image_B = create_output_image(gen_B, test_images_A)\n",
        "    save(\"output/cgan_A_steps_final.png\", output_image_A)\n",
        "    save(\"output/cgan_B_steps_final.png\", output_image_B)\n",
        "end"
      ],
      "metadata": {
        "id": "0lBahkcrB9-G",
        "colab": {
          "base_uri": "https://localhost:8080/"
        },
        "outputId": "678087f1-a4d4-4f6d-fd40-a72356e3a2fa"
      },
      "execution_count": 88,
      "outputs": [
        {
          "output_type": "execute_result",
          "data": {
            "text/plain": [
              "train (generic function with 1 method)"
            ]
          },
          "metadata": {},
          "execution_count": 88
        }
      ]
    },
    {
      "cell_type": "code",
      "source": [
        "# run train\n",
        "train()"
      ],
      "metadata": {
        "id": "A2A14GgyCEMg"
      },
      "execution_count": null,
      "outputs": []
    }
  ]
}